{
 "cells": [
  {
   "cell_type": "code",
   "execution_count": 19,
   "id": "49979d40",
   "metadata": {},
   "outputs": [
    {
     "name": "stdout",
     "output_type": "stream",
     "text": [
      "The autoreload extension is already loaded. To reload it, use:\n",
      "  %reload_ext autoreload\n"
     ]
    }
   ],
   "source": [
    "%load_ext autoreload\n",
    "%autoreload 2"
   ]
  },
  {
   "cell_type": "code",
   "execution_count": null,
   "id": "51591475",
   "metadata": {},
   "outputs": [
    {
     "name": "stdout",
     "output_type": "stream",
     "text": [
      "{'起': {'kanji': '起', 'canonical': '08d77', 'words': {'起きる', '起こる', '起こす', '早起き'}}, '開': {'kanji': '開', 'canonical': '0958b', 'words': {'開発', '公開', '開く', '開始', '開ける'}}, '業': {'kanji': '業', 'canonical': '0696d', 'words': {'授業', '職業', '卒業', '企業'}}, '年': {'kanji': '年', 'canonical': '05e74', 'words': {'一昨年', '来年', '年賀状', '年下', '年上', '年月', '毎年', '再来年', '昨年', '去年', '半年', '新年', '年中', '年間', '年', '年度', '今年', '少年'}}, '度': {'kanji': '度', 'canonical': '05ea6', 'words': {'何度', '温度', '度々', '今度', '年度'}}, '昨': {'kanji': '昨', 'canonical': '06628', 'words': {'一昨年', '昨年', '昨日', '一昨日', '昨夜'}}, '夜': {'kanji': '夜', 'canonical': '0591c', 'words': {'夜', '今夜', '夜中', '昨夜'}}, '消': {'kanji': '消', 'canonical': '06d88', 'words': {'消す', '消える', '消しゴム', '消防署'}}, '二': {'kanji': '二', 'canonical': '04e8c', 'words': {'二つ', '二階', '二十日', '二人', '二十歳', '二日', '二'}}, '大': {'kanji': '大', 'canonical': '05927', 'words': {'大抵', '大好き', '大きい', '大統領', '大切', '大人', '大学院', '拡大', '大分', '大人しい', '最大', '大使館', '大学', '大勢', '大丈夫', '大会', '重大', '大型', '大きさ', '大事', '大嫌い', '大学生', '大幅', '大変'}}, '人': {'kanji': '人', 'canonical': '04eba', 'words': {'一人', '大人しい', '外人', '美人', '一人で', '人気', '大人', 'ご主人', '人', '二人', '個人', '人間', '外国人', '主人', '人々'}}, '行': {'kanji': '行', 'canonical': '0884c', 'words': {'急行', '行き', '銀行', '飛行機', '持って行く', '行く', '流行る', '旅行'}}, '半': {'kanji': '半', 'canonical': '0534a', 'words': {'半年', '半日', '半分', '半袖', '半月'}}, '月': {'kanji': '月', 'canonical': '06708', 'words': {'年月', '月', '先月', '再来月', '正月', '月曜日', '毎月', '来月', '半月', '今月'}}, '語': {'kanji': '語', 'canonical': '08a9e', 'words': {'英語', '物語', '敬語', '外国語'}}, '本': {'kanji': '本', 'canonical': '0672c', 'words': {'本当', '本棚', '本箱', '基本', '本', '本屋', '本物', '本当に'}}, '運': {'kanji': '運', 'canonical': '0904b', 'words': {'運賃', '運転手', '運ぶ', '運動', '運転'}}, '全': {'kanji': '全', 'canonical': '05168', 'words': {'安全', '全体', '全く', '全部', '全然'}}, '急': {'kanji': '急', 'canonical': '06025', 'words': {'特急', '急行', '急に', '急', '急ぐ', '救急車'}}, '昼': {'kanji': '昼', 'canonical': '0663c', 'words': {'昼間', '昼', '昼食', '昼休み', '昼前', '昼寝', '昼過ぎ'}}, '間': {'kanji': '間', 'canonical': '09593', 'words': {'この間', '間', '間違う', '昼間', '期間', '間違える', '時間', '居間', '間違い', '年間', '間に合う', '人間'}}, '小': {'kanji': '小', 'canonical': '05c0f', 'words': {'小包', '小学校', '小さい', '小学生', '小説'}}, '来': {'kanji': '来', 'canonical': '06765', 'words': {'将来', '来年', '再来年', '未来', '来週', '来る', '再来月', '来月', '再来週'}}, '自': {'kanji': '自', 'canonical': '081ea', 'words': {'自然', '自由', '自転車', '自炊', '自宅', '自動車', '自分', '自動'}}, '動': {'kanji': '動', 'canonical': '052d5', 'words': {'動物', '不動産屋', '動き', '動物園', '動く', '自動', '自動車', '運動', '動かす', '活動'}}, '車': {'kanji': '車', 'canonical': '08eca', 'words': {'電車', '発車', '車', '自転車', '車道', '自動車', '駐車場', '停車', '救急車'}}, '場': {'kanji': '場', 'canonical': '05834', 'words': {'立場', '入場券', '職場', '駐車場', '場合', '場所'}}, '売': {'kanji': '売', 'canonical': '058f2', 'words': {'売る', '売り切れる', '売店', '売り切れ', '売れる', '販売'}}, '社': {'kanji': '社', 'canonical': '0793e', 'words': {'神社', '社長', '社会', '会社', '社員'}}, '会': {'kanji': '会', 'canonical': '04f1a', 'words': {'会う', '会話', '大会', '教会', '会長', '会議', '再会', '社会', '会社', '出会う'}}, '生': {'kanji': '生', 'canonical': '0751f', 'words': {'大学生', '高校生', '中学生', '生まれる', '生徒', '先生', '生きる', '一生懸命', '生活', '小学生', '誕生日', '留学生', '生む', '学生'}}, '真': {'kanji': '真', 'canonical': '0771f', 'words': {'真っ直ぐ', '真っ暗', '写真', '真っ黒', '真っ白', '真ん中', '真面目', '真っ青', '真っ赤'}}, '切': {'kanji': '切', 'canonical': '05207', 'words': {'売り切れる', '切れる', '大切', '売り切れ', '切手', '切符', '切る', '不親切', '踏切', '親切'}}, '手': {'kanji': '手', 'canonical': '0624b', 'words': {'手術', '手伝う', 'お手洗い', '運転手', '手帳', '手', '右手', '左手', '拍手', '手続き', '切手', '歌手', '下手', '手紙', '相手', '手袋', '選手', '上手', '握手', '苦手'}}, '明': {'kanji': '明', 'canonical': '0660e', 'words': {'説明', '明るい', '明日', '明らか', '明後日'}}, '後': {'kanji': '後', 'canonical': '05f8c', 'words': {'後ろ', '後', '今後', '最後', '午後', '明後日'}}, '日': {'kanji': '日', 'canonical': '065e5', 'words': {'七日', '火曜日', '明日', '祝日', '誕生日', '休日', '記念日', '五日', '二十日', '曜日', '九日', '日中', '四日', '一日', '十日', '一昨日', '日陰', '六日', '水曜日', '日時', '半日', '日記', '木曜日', '金曜日', '日曜日', '三日', '毎日', '日', '土曜日', '今日', '昨日', '月曜日', '二日', '八日', '明後日'}}, '当': {'kanji': '当', 'canonical': '05f53', 'words': {'本当', '担当', '当時', '当然', '突き当たり', '弁当', '突き当たる', '本当に', '当たる'}}, '成': {'kanji': '成', 'canonical': '06210', 'words': {'成績', '完成', '成功', '平成'}}, '画': {'kanji': '画', 'canonical': '0753b', 'words': {'計画', '映画館', '映画', '漫画'}}, '今': {'kanji': '今', 'canonical': '04eca', 'words': {'今夜', '今晩', '今', '今まで', '今週', '今後', '今日', '今回', '今朝', '今度', '今年', '今月'}}, '家': {'kanji': '家', 'canonical': '05bb6', 'words': {'家庭', '家内', '家賃', '家族', '家'}}, '事': {'kanji': '事', 'canonical': '04e8b', 'words': {'事実', '食事', '火事', '交通事故', '返事', '事件', '仕事', '事故', '事務所', '事務室', '工事', '用事', '大事'}}, '所': {'kanji': '所', 'canonical': '06240', 'words': {'洗面所', '所', '停留所', '台所', '近所', '住所', '事務所', '場所', '所有'}}, '先': {'kanji': '先', 'canonical': '05148', 'words': {'先週', '先月', '先生', '先輩', '先'}}, '週': {'kanji': '週', 'canonical': '09031', 'words': {'先週', '今週', '来週', '週', '毎週', '週末', '再来週', '週刊誌'}}, '向': {'kanji': '向', 'canonical': '05411', 'words': {'向こう', '向かう', '向こう側', '振り向く', '向く', '方向'}}, '赤': {'kanji': '赤', 'canonical': '08d64', 'words': {'真っ赤', '赤ちゃん', '赤い', '赤'}}, '合': {'kanji': '合', 'canonical': '05408', 'words': {'話し合う', '合計', '合う', '都合', '具合', '合格', '場合', '似合う', '間に合う'}}, '用': {'kanji': '用', 'canonical': '07528', 'words': {'用', '用意', '用件', '利用', '用事'}}, '一': {'kanji': '一', 'canonical': '04e00', 'words': {'一人', '一昨年', '一番', '一', '一般', '一方', '一つ', '一人で', '一生懸命', '一緒に', '一部', '一日', '一緒', '一昨日', '一言'}}, '部': {'kanji': '部', 'canonical': '090e8', 'words': {'全部', '部分', '部屋', '一部'}}, '上': {'kanji': '上', 'canonical': '04e0a', 'words': {'年上', '上着', '上手', '上る', '上', '以上', '上り', '上がる', '上げる'}}, '嫌': {'kanji': '嫌', 'canonical': '05acc', 'words': {'嫌', '大嫌い', '嫌い', '機嫌'}}, '期': {'kanji': '期', 'canonical': '0671f', 'words': {'期待', '期間', '時期', '定期券'}}, '力': {'kanji': '力', 'canonical': '0529b', 'words': {'協力', '能力', '努力', '力'}}, '口': {'kanji': '口', 'canonical': '053e3', 'words': {'悪口', '出口', '口', '改札口', '早口', '入り口'}}, '時': {'kanji': '時', 'canonical': '06642', 'words': {'時', '目覚まし時計', '時計', '日時', '時期', '時代', '腕時計', '時間', '時々', '当時'}}, '代': {'kanji': '代', 'canonical': '04ee3', 'words': {'代わり', '時代', '代える', '代表', '代わる'}}, '方': {'kanji': '方', 'canonical': '065b9', 'words': {'両方', '読み方', '書き方', '一方', '仕方', '夕方', '方法', '見方', '方', '言い方', '方向'}}, '名': {'kanji': '名', 'canonical': '0540d', 'words': {'有名', '氏名', '名簿', '平仮名', '名前', '仮名', '名字'}}, '冷': {'kanji': '冷', 'canonical': '051b7', 'words': {'冷える', '冷める', '冷蔵庫', '冷房', '冷たい', '冷やす'}}, '前': {'kanji': '前', 'canonical': '0524d', 'words': {'前', '昼前', '名前', '午前'}}, '立': {'kanji': '立', 'canonical': '07acb', 'words': {'立場', '役に立つ', '立派', '立つ', '立てる', '目立つ', '組み立てる'}}, '数': {'kanji': '数', 'canonical': '06570', 'words': {'数える', '数', '数字', '数学'}}, '近': {'kanji': '近', 'canonical': '08fd1', 'words': {'近づく', '近い', '最近', '近所', '近く'}}, '目': {'kanji': '目', 'canonical': '076ee', 'words': {'目覚まし時計', '注目', '目', '真面目', '駄目', '目的', '目立つ'}}, '十': {'kanji': '十', 'canonical': '05341', 'words': {'二十日', '二十歳', '十分', '十日', '十'}}, '見': {'kanji': '見', 'canonical': '0898b', 'words': {'見つかる', '発見', '見る', '花見', '見える', '見物', '意見', '見せる', '見方', '見送る', '見つける', '見送り'}}, '決': {'kanji': '決', 'canonical': '06c7a', 'words': {'決定', '決まる', '決して', '決める'}}, '下': {'kanji': '下', 'canonical': '04e0b', 'words': {'下着', '年下', '廊下', '下り', '下がる', '下る', '以下', '下', '下りる', '下ろす', '下手', '靴下', '地下', '下げる', '地下鉄'}}, '然': {'kanji': '然', 'canonical': '07136', 'words': {'当然', '自然', '偶然', '全然'}}, '祖': {'kanji': '祖', 'canonical': '07956', 'words': {'お祖母さん', 'お祖父さん', '祖母', '祖父'}}, '母': {'kanji': '母', 'canonical': '06bcd', 'words': {'祖母', '母親', '母', 'お祖母さん', 'お母さん'}}, '受': {'kanji': '受', 'canonical': '053d7', 'words': {'受け付ける', '受け取る', '受ける', '受付'}}, '取': {'kanji': '取', 'canonical': '053d6', 'words': {'書き取る', '受け取る', '取れる', '取る'}}, '毎': {'kanji': '毎', 'canonical': '06bce', 'words': {'毎年', '毎朝', '毎晩', '毎月', '毎週', '毎日'}}, '分': {'kanji': '分', 'canonical': '05206', 'words': {'分', '分ける', '大分', '半分', '部分', '十分', '分かる', '自分', '分かれる', '多分', '分野', '随分'}}, '別': {'kanji': '別', 'canonical': '05225', 'words': {'別に', '別れる', '別', '特別', '別々'}}, '曜': {'kanji': '曜', 'canonical': '066dc', 'words': {'火曜日', '土曜日', '水曜日', '曜日', '木曜日', '月曜日', '金曜日', '日曜日'}}, '々': {'kanji': '々', 'canonical': '03005', 'words': {'少々', '度々', '段々', '色々', '時々', '別々', '人々'}}, '道': {'kanji': '道', 'canonical': '09053', 'words': {'横断歩道', '車道', '歩道', '片道', '道', '道路', '水道'}}, '最': {'kanji': '最', 'canonical': '06700', 'words': {'最大', '最後', '最近', '最初'}}, '返': {'kanji': '返', 'canonical': '08fd4', 'words': {'裏返す', '返事', '返す', '繰り返す'}}, '便': {'kanji': '便', 'canonical': '04fbf', 'words': {'航空便', '郵便屋さん', '便利', '不便', '郵便', '郵便局'}}, '右': {'kanji': '右', 'canonical': '053f3', 'words': {'右', '右手', '右側', '左右'}}, '側': {'kanji': '側', 'canonical': '05074', 'words': {'内側', '向こう側', '外側', '左側', '右側'}}, '機': {'kanji': '機', 'canonical': '06a5f', 'words': {'機能', '洗濯機', '扇風機', '掃除機', '飛行機', '機嫌', '機械'}}, '四': {'kanji': '四', 'canonical': '056db', 'words': {'四つ', '四角', '四角い', '四日', '四', '四つ角'}}, '角': {'kanji': '角', 'canonical': '089d2', 'words': {'四角', '曲がり角', '三角', '四角い', '角', '四つ角'}}, '確': {'kanji': '確', 'canonical': '078ba', 'words': {'確認', '確かめる', '確か', '正確'}}, '国': {'kanji': '国', 'canonical': '056fd', 'words': {'国際', '国', '外国', '国内', '国籍', '外国人', '帰国', '外国語'}}, '通': {'kanji': '通', 'canonical': '0901a', 'words': {'通り', '通う', '通常', '交通事故', '通学', '通勤', '普通', '通る', '交通費'}}, '文': {'kanji': '文', 'canonical': '06587', 'words': {'例文', '文章', '作文', '文字', '文句', '文房具', '文化', '注文'}}, '再': {'kanji': '再', 'canonical': '0518d', 'words': {'再来年', '再来月', '再会', '再び', '再来週'}}, '茶': {'kanji': '茶', 'canonical': '08336', 'words': {'茶', '紅茶', 'お茶', '喫茶店', '茶碗', '茶色'}}, '空': {'kanji': '空', 'canonical': '07a7a', 'words': {'空気', '航空便', '空', '空く', '空港'}}, '風': {'kanji': '風', 'canonical': '098a8', 'words': {'風邪薬', '風', '扇風機', '風呂屋', '台風', '風呂', '和風', '風邪'}}, '無': {'kanji': '無', 'canonical': '07121', 'words': {'無理', '無駄', '無くす', '無くなる', '無い'}}, '理': {'kanji': '理', 'canonical': '07406', 'words': {'理科', '理由', '無理', '修理', '料理'}}, '夕': {'kanji': '夕', 'canonical': '05915', 'words': {'夕飯', '夕方', '夕焼け', '夕刊', '夕食'}}, '食': {'kanji': '食', 'canonical': '098df', 'words': {'食べ物', '朝食', '食事', '食堂', '食器', '夕食', '昼食', '食べる'}}, '引': {'kanji': '引', 'canonical': '05f15', 'words': {'引き出し', '引っ越し', '引っ越す', '引く', '引っ張る'}}, '七': {'kanji': '七', 'canonical': '04e03', 'words': {'七', '七つ', '七日'}}, '高': {'kanji': '高', 'canonical': '09ad8', 'words': {'高い', '高校', '高校生', '高さ'}}, '校': {'kanji': '校', 'canonical': '06821', 'words': {'小学校', '高校生', '高校', '中学校', '学校'}}, '外': {'kanji': '外', 'canonical': '05916', 'words': {'外国', '以外', '外側', '外', '海外', '外人', '外国人', '外国語'}}, '直': {'kanji': '直', 'canonical': '076f4', 'words': {'真っ直ぐ', '直接', '直る', '正直', '直ぐ', '直す'}}, '字': {'kanji': '字', 'canonical': '05b57', 'words': {'名字', '数字', '漢字', '字', '文字', 'ローマ字'}}, '教': {'kanji': '教', 'canonical': '06559', 'words': {'教師', '教会', '教科書', '教育', '教室', '教える', '教授'}}, '中': {'kanji': '中', 'canonical': '04e2d', 'words': {'中学', '中学生', '途中', '日中', '真ん中', '背中', '中止', '中', '中心', '中学校', '夜中', '年中'}}, '学': {'kanji': '学', 'canonical': '05b66', 'words': {'中学', '小学校', '大学生', '学生', '中学生', '科学', '入学', '通学', '小学生', '大学院', '大学', '留学生', '中学校', '学校', '留学', '数学'}}, '番': {'kanji': '番', 'canonical': '0756a', 'words': {'交番', '一番', '順番', '番', '番組', '番号'}}, '火': {'kanji': '火', 'canonical': '0706b', 'words': {'火傷', '火曜日', '火', '火事'}}, '夫': {'kanji': '夫', 'canonical': '0592b', 'words': {'大丈夫', '夫', '夫婦', '丈夫'}}, '重': {'kanji': '重', 'canonical': '091cd', 'words': {'重大', '重い', '重さ', '重要'}}, '三': {'kanji': '三', 'canonical': '04e09', 'words': {'三つ', '三', '三日', '三角'}}, '九': {'kanji': '九', 'canonical': '04e5d', 'words': {'九', '九日', '九つ'}}, '帰': {'kanji': '帰', 'canonical': '05e30', 'words': {'帰る', '帰り', '帰宅', '帰国'}}, '宅': {'kanji': '宅', 'canonical': '05b85', 'words': {'お宅', '帰宅', '自宅', '住宅'}}, '出': {'kanji': '出', 'canonical': '051fa', 'words': {'貸し出す', '出口', '出掛ける', '思い出す', '引き出し', '出身', '出張', '出る', '出す', '思い出', '出発', '出会う'}}, '発': {'kanji': '発', 'canonical': '0767a', 'words': {'発見', '発車', '開発', '出発', '発表'}}, '意': {'kanji': '意', 'canonical': '0610f', 'words': {'得意', '注意', '意見', '用意', '意味'}}, '洗': {'kanji': '洗', 'canonical': '06d17', 'words': {'洗濯機', '洗濯', '洗う', 'お手洗い', '洗面所'}}, '送': {'kanji': '送', 'canonical': '09001', 'words': {'見送り', '見送る', '放送', '送る'}}, '者': {'kanji': '者', 'canonical': '08005', 'words': {'お医者さん', '若者', '患者', '医者', '歯医者'}}, '付': {'kanji': '付', 'canonical': '04ed8', 'words': {'受け付ける', '付ける', '受付', '気付く', '気を付ける', '片付ける', '付く'}}, '注': {'kanji': '注', 'canonical': '06ce8', 'words': {'注射', '注意', '注目', '注文'}}, '味': {'kanji': '味', 'canonical': '05473', 'words': {'美味しい', '趣味', '意味', '味', '味噌汁'}}, '書': {'kanji': '書', 'canonical': '066f8', 'words': {'書き方', '教科書', '絵葉書', '書類', '横書き', '図書館', '書き取る', '葉書', '辞書', '読書', '書く'}}, '持': {'kanji': '持', 'canonical': '06301', 'words': {'金持ち', '持つ', '持ってくる', '気持ち', '持って行く'}}, '着': {'kanji': '着', 'canonical': '07740', 'words': {'着替える', '下着', '上着', '着る', '着く', '水着', '着せる', '着物'}}, '長': {'kanji': '長', 'canonical': '09577', 'words': {'長袖', '長男', '会長', '社長', '長女', '長さ', '長い'}}, '気': {'kanji': '気', 'canonical': '06c17', 'words': {'空気', '病気', '気温', '気', '気に入る', '電気', '人気', '天気', '天気予報', '気持ち', '寒気', '気付く', '気を付ける', '元気'}}, '対': {'kanji': '対', 'canonical': '05bfe', 'words': {'対する', '絶対', '絶対に', '反対'}}, '楽': {'kanji': '楽', 'canonical': '0697d', 'words': {'楽しい', '音楽', '楽しむ', '楽しみ'}}, '入': {'kanji': '入', 'canonical': '05165', 'words': {'入る', '入院', '入れる', '入場券', '気に入る', '入学', '入り口', '押し入れ'}}, '院': {'kanji': '院', 'canonical': '09662', 'words': {'大学院', '入院', '病院', '美容院'}}, '留': {'kanji': '留', 'canonical': '07559', 'words': {'留守', '留学生', '留学', '停留所'}}, '汚': {'kanji': '汚', 'canonical': '06c5a', 'words': {'汚す', '汚れる', '汚い', '汚れ'}}, '子': {'kanji': '子', 'canonical': '05b50', 'words': {'子供', '椅子', '息子', '子', '男の子', '帽子', '女の子', 'お菓子'}}, '習': {'kanji': '習', 'canonical': '07fd2', 'words': {'習う', '習慣', '復習', '練習'}}, '変': {'kanji': '変', 'canonical': '05909', 'words': {'変化', '変', '大変', '変える', '変わる'}}, '色': {'kanji': '色', 'canonical': '08272', 'words': {'黄色い', '灰色', '色', '色々', '景色', '緑色', '茶色', '黄色'}}, '父': {'kanji': '父', 'canonical': '07236', 'words': {'祖父', '父親', 'お祖父さん', 'お父さん', '父'}}, '建': {'kanji': '建', 'canonical': '05efa', 'words': {'建つ', '建てる', '建物', '建設'}}, '物': {'kanji': '物', 'canonical': '07269', 'words': {'動物', '食べ物', '乗り物', '買い物', '博物館', '忘れ物', '飲み物', '贈り物', '見物', '動物園', '物', '果物', '建物', '品物', '荷物', '物語', '本物', '着物'}}, '安': {'kanji': '安', 'canonical': '05b89', 'words': {'安い', '安っぽい', '安全', '安心'}}, '面': {'kanji': '面', 'canonical': '09762', 'words': {'真面目', '面接', '洗面所', '面白い', '面倒'}}, '白': {'kanji': '白', 'canonical': '0767d', 'words': {'白い', '真っ白', '面白い', '白'}}, '土': {'kanji': '土', 'canonical': '0571f', 'words': {'土産', '土地', 'お土産', '土曜日'}}, '乗': {'kanji': '乗', 'canonical': '04e57', 'words': {'乗り物', '乗り換える', '乗り換え', '乗る'}}, '正': {'kanji': '正', 'canonical': '06b63', 'words': {'正午', '正月', '正しい', '正確', '正直'}}, '館': {'kanji': '館', 'canonical': '09928', 'words': {'旅館', '博物館', '美術館', '図書館', '大使館', '映画館'}}, '段': {'kanji': '段', 'canonical': '06bb5', 'words': {'普段', '階段', '段々', '値段'}}, '曲': {'kanji': '曲', 'canonical': '066f2', 'words': {'曲げる', '曲', '曲がり角', '曲がる'}}, '話': {'kanji': '話', 'canonical': '08a71', 'words': {'会話', '話し合う', '話す', '話', '電話帳', '携帯電話', '電話'}}, '新': {'kanji': '新', 'canonical': '065b0', 'words': {'新年', '新聞', '新幹線', '新しい'}}, '覚': {'kanji': '覚', 'canonical': '0899a', 'words': {'覚める', '覚ます', '目覚まし時計', '覚える'}}, '計': {'kanji': '計', 'canonical': '08a08', 'words': {'目覚まし時計', '時計', '合計', '計算', '腕時計', '計画'}}, '親': {'kanji': '親', 'canonical': '089aa', 'words': {'親', '母親', '父親', '親しい', '両親', '不親切', '親切'}}, '朝': {'kanji': '朝', 'canonical': '0671d', 'words': {'朝', '朝食', '朝ご飯', '朝刊', '毎朝', '今朝'}}, '続': {'kanji': '続', 'canonical': '07d9a', 'words': {'続ける', '手続き', '続く', '続き', '接続'}}, '休': {'kanji': '休', 'canonical': '04f11', 'words': {'休み', '休む', '夏休み', '昼休み', '冬休み', '休憩', '休日'}}, '思': {'kanji': '思', 'canonical': '0601d', 'words': {'思う', '思わず', '思い出す', '不思議', '思い出'}}, '天': {'kanji': '天', 'canonical': '05929', 'words': {'天井', '天気予報', '天ぷら', '天気'}}, '屋': {'kanji': '屋', 'canonical': '05c4b', 'words': {'部屋', '郵便屋さん', '本屋', '不動産屋', '風呂屋', 'そば屋', '屋根', '床屋'}}, '電': {'kanji': '電', 'canonical': '096fb', 'words': {'電車', '電気', '電話帳', '携帯電話', '電池', '電話'}}, '少': {'kanji': '少', 'canonical': '05c11', 'words': {'少々', '少ない', '少しも', '少し', '少女', '少年'}}, '止': {'kanji': '止', 'canonical': '06b62', 'words': {'止む', '止まる', '中止', '止める'}}, '地': {'kanji': '地', 'canonical': '05730', 'words': {'地震', '地域', '地球', '土地', '地下', '地図', '地下鉄'}}, '黒': {'kanji': '黒', 'canonical': '09ed2', 'words': {'黒', '黒板', '真っ黒', '黒い'}}, '兄': {'kanji': '兄', 'canonical': '05144', 'words': {'兄弟', '兄', 'お兄さん', '兄さん'}}, '早': {'kanji': '早', 'canonical': '065e9', 'words': {'早速', '早口', '早起き', '早い', '早く'}}, '女': {'kanji': '女', 'canonical': '05973', 'words': {'少女', '長女', '女性', '女の子', '彼女', '女'}}, '歯': {'kanji': '歯', 'canonical': '06b6f', 'words': {'歯', '歯ブラシ', '歯医者', '歯磨き'}}, '違': {'kanji': '違', 'canonical': '09055', 'words': {'勘違い', '間違える', '違う', '間違い', '間違う', '違い'}}, '転': {'kanji': '転', 'canonical': '08ee2', 'words': {'自転車', '運転手', '転勤', '運転', '転ぶ'}}, '水': {'kanji': '水', 'canonical': '06c34', 'words': {'水', '水曜日', '水着', '水泳', '水道'}}, '何': {'kanji': '何', 'canonical': '04f55', 'words': {'何度', '何', '何とか', '何か', '何しろ'}}, '広': {'kanji': '広', 'canonical': '05e83', 'words': {'広まる', '広さ', '広がる', '広い'}}, '始': {'kanji': '始', 'canonical': '059cb', 'words': {'始める', '始まる', '始めに', '開始'}}, '辞': {'kanji': '辞', 'canonical': '08f9e', 'words': {'お世辞', '辞書', '辞める', 'お辞儀'}}, '金': {'kanji': '金', 'canonical': '091d1', 'words': {'金持ち', '貯金', '金曜日', '金額', '現金', '金'}}, '暖': {'kanji': '暖', 'canonical': '06696', 'words': {'暖める', '暖まる', '暖房', '暖かい'}}, '美': {'kanji': '美', 'canonical': '07f8e', 'words': {'美術館', '美容院', '美味しい', '美しい', '美人'}}, '言': {'kanji': '言', 'canonical': '08a00', 'words': {'言う', '言葉', '伝言', '言い方', '一言'}}, '掛': {'kanji': '掛', 'canonical': '0639b', 'words': {'掛かる', '出掛ける', '掛け算', '掛ける'}}, '店': {'kanji': '店', 'canonical': '05e97', 'words': {'店員', '売店', '店', '喫茶店'}}, '左': {'kanji': '左', 'canonical': '05de6', 'words': {'左側', '左手', '左', '左右'}}, '可': {'kanji': '可', 'canonical': '053ef', 'words': {'可愛らしい', '可哀相', '可能', '可愛い'}}, '愛': {'kanji': '愛', 'canonical': '0611b', 'words': {'愛する', '愛', '可愛らしい', '可愛い'}}, '歩': {'kanji': '歩', 'canonical': '06b69', 'words': {'横断歩道', '歩く', '散歩', '歩道'}}, '葉': {'kanji': '葉', 'canonical': '08449', 'words': {'絵葉書', '葉', '葉書', '言葉'}}, '読': {'kanji': '読', 'canonical': '08aad', 'words': {'読み方', '読み', '読書', '読む'}}, '張': {'kanji': '張', 'canonical': '05f35', 'words': {'出張', '頑張る', '引っ張る', '緊張'}}, '内': {'kanji': '内', 'canonical': '05185', 'words': {'内側', '家内', '国内', '内容', '内緒', '案内'}}, '不': {'kanji': '不', 'canonical': '04e0d', 'words': {'不幸', '不動産屋', '不思議', '不便', '不親切'}}, '表': {'kanji': '表', 'canonical': '08868', 'words': {'代表', '発表', '表現', '表'}}, '交': {'kanji': '交', 'canonical': '04ea4', 'words': {'交番', '交通事故', '交通費', '交差点'}}, '焼': {'kanji': '焼', 'canonical': '0713c', 'words': {'焼く', '焼ける', '夕焼け', 'すき焼き'}}}\n"
     ]
    }
   ],
   "source": [
    "from explore import run, process_words\n",
    "import pandas as pd\n",
    "\n",
    "df = run()\n",
    "count = process_words(df, 'Word')\n",
    "# note, count[1] has the map\n",
    "\n",
    "\n",
    "filtered_words = {\n",
    "  kanji: word_set\n",
    "  for kanji, word_set in count[1].items()\n",
    "  if count[0].get(kanji, 0) > 3\n",
    "}\n",
    "\n",
    "# https://github.com/KanjiVG/kanjivg/blob/bb56b34b4276db3f50d07e213be5ba13b9a68927/utils.py#L19\n",
    "# Given a string \"id\", either turn it into its numerical Unicode\n",
    "# value, or if it appears to be a hexadecimal string, convert that\n",
    "# into a number, then convert the number into a five digit hexadecimal\n",
    "# for use as a file name.\n",
    "def canonicalId(id):\n",
    "\tif isinstance(id, str):\n",
    "\t\tidLen = len(id)\n",
    "\t\tif idLen == 1:\n",
    "\t\t\tid = ord(id)\n",
    "\t\telif idLen >= 2 and idLen <= 5:\n",
    "\t\t\tid = int(id, 16)\n",
    "\t\telse:\n",
    "\t\t\traise ValueError(\"Character id must be a 1-character string with the character itself, or 2-5 hex digit unicode codepoint.\")\n",
    "\tif not isinstance(id, int):\n",
    "\t\traise ValueError(\"canonicalId: id must be int or str\")\n",
    "\tif id > 0xf and id <= 0xfffff:\n",
    "\t\treturn \"%05x\" % (id)\n",
    "\traise ValueError(\"Character id out of range\")\n",
    "\n",
    "# make dict from filtered_words with canonical ids, like { kanji: \"大\", canonical: \"\", words: [\"大きい\", \"大丈夫\"] }\n",
    "kanji_map = {}\n",
    "for kanji, words in filtered_words.items():\n",
    "\tkanji_map[kanji] = {\n",
    "\t\t\"kanji\": kanji,\n",
    "\t\t\"canonical\": canonicalId(kanji),\n",
    "\t\t\"words\": words\n",
    "\t}\n",
    "\n",
    "print(kanji_map)\n",
    "\n",
    "\n",
    "\n",
    "\n",
    "\n",
    "\n"
   ]
  },
  {
   "cell_type": "code",
   "execution_count": 98,
   "id": "af8ed17d",
   "metadata": {},
   "outputs": [],
   "source": [
    "import pickle\n",
    "\n",
    "pickle.dump(kanji_map, open(\"../outputs/kanji_map.pkl\", \"wb\"))"
   ]
  },
  {
   "cell_type": "code",
   "execution_count": null,
   "id": "303e22ec",
   "metadata": {},
   "outputs": [],
   "source": [
    "# count_df = pd.DataFrame(count[1].items())\n",
    "# print(count_df)\n",
    "\n",
    "\n",
    "\n",
    "# # group by count and count\n",
    "# count_df_grouped_by_count = count_df.groupby(1).count()\n",
    "# # print(count_df_grouped_by_count)\n",
    "# \n",
    "# # filter by count\n",
    "# count_df = count_df[count_df[1] > 4]\n",
    "# print(count_df.size)\n",
    "# # sort df by desc\n",
    "# count_df = count_df.sort_values(1, ascending=False)\n",
    "# with pd.option_context('display.max_rows', None, 'display.max_columns', None):\n",
    "#   print(count_df)"
   ]
  }
 ],
 "metadata": {
  "kernelspec": {
   "display_name": ".venv",
   "language": "python",
   "name": "python3"
  },
  "language_info": {
   "codemirror_mode": {
    "name": "ipython",
    "version": 3
   },
   "file_extension": ".py",
   "mimetype": "text/x-python",
   "name": "python",
   "nbconvert_exporter": "python",
   "pygments_lexer": "ipython3",
   "version": "3.10.5"
  }
 },
 "nbformat": 4,
 "nbformat_minor": 5
}
